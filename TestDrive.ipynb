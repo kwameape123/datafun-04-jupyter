{
 "cells": [
  {
   "cell_type": "code",
   "execution_count": 11,
   "metadata": {},
   "outputs": [
    {
     "name": "stdout",
     "output_type": "stream",
     "text": [
      "Hello, Dance\n"
     ]
    }
   ],
   "source": [
    "print(\"Hello, Dance\")"
   ]
  },
  {
   "cell_type": "code",
   "execution_count": 12,
   "metadata": {},
   "outputs": [
    {
     "data": {
      "text/plain": [
       "56"
      ]
     },
     "execution_count": 12,
     "metadata": {},
     "output_type": "execute_result"
    }
   ],
   "source": [
    "(1**2)*56"
   ]
  },
  {
   "cell_type": "code",
   "execution_count": 13,
   "metadata": {},
   "outputs": [
    {
     "name": "stdout",
     "output_type": "stream",
     "text": [
      "40.0\n"
     ]
    }
   ],
   "source": [
    "distance_miles:int = 60\n",
    "time_hours:float = 1.5\n",
    "speed = distance_miles/time_hours\n",
    "print(speed)"
   ]
  },
  {
   "cell_type": "code",
   "execution_count": 14,
   "metadata": {},
   "outputs": [
    {
     "name": "stdout",
     "output_type": "stream",
     "text": [
      "2\n",
      "8\n",
      "18\n",
      "32\n",
      "50\n"
     ]
    }
   ],
   "source": [
    "for x in range(1,6):\n",
    "  print(2*x**2)  "
   ]
  },
  {
   "cell_type": "code",
   "execution_count": 15,
   "metadata": {},
   "outputs": [
    {
     "name": "stdout",
     "output_type": "stream",
     "text": [
      "901\n",
      "902\n",
      "904\n",
      "3006\n",
      "3009.3\n"
     ]
    }
   ],
   "source": [
    "x = [1,2,4,6,9.3]\n",
    "for a in x:\n",
    "    if a>5:\n",
    "        print(a+3000)\n",
    "    else:\n",
    "        print(a+900)"
   ]
  },
  {
   "cell_type": "code",
   "execution_count": 16,
   "metadata": {},
   "outputs": [
    {
     "name": "stdout",
     "output_type": "stream",
     "text": [
      "My name is arnold atchoe.\n",
      "Arnold comes from Mars.\n",
      "His best friend is jupyter\n"
     ]
    }
   ],
   "source": [
    "words:str = 'My name is arnold atchoe.\\nArnold comes from Mars.\\nHis best friend is jupyter'\n",
    "print(words)\n"
   ]
  }
 ],
 "metadata": {
  "kernelspec": {
   "display_name": ".venv",
   "language": "python",
   "name": "python3"
  },
  "language_info": {
   "codemirror_mode": {
    "name": "ipython",
    "version": 3
   },
   "file_extension": ".py",
   "mimetype": "text/x-python",
   "name": "python",
   "nbconvert_exporter": "python",
   "pygments_lexer": "ipython3",
   "version": "3.12.5"
  }
 },
 "nbformat": 4,
 "nbformat_minor": 2
}
